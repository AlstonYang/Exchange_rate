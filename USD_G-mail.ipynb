{
 "cells": [
  {
   "cell_type": "code",
   "execution_count": 51,
   "metadata": {},
   "outputs": [],
   "source": [
    "from selenium import webdriver\n",
    "from time import sleep\n",
    "from bs4 import BeautifulSoup\n",
    "import pandas as pd\n",
    "import requests\n",
    "import json\n",
    "import numpy as np\n",
    "import smtplib\n",
    "from email.mime.multipart import MIMEMultipart\n",
    "from email.mime.text import MIMEText"
   ]
  },
  {
   "cell_type": "code",
   "execution_count": 52,
   "metadata": {},
   "outputs": [],
   "source": [
    "def send_email(mes):\n",
    "    \n",
    "    fromaddr = \"hanhanyang313@gmail.com\"\n",
    "    toaddr = \"hanhanyang313@gmail.com\"\n",
    "\n",
    "    msg = MIMEMultipart()\n",
    "    msg[\"From\"] = fromaddr\n",
    "    msg[\"To\"] = toaddr\n",
    "    msg[\"Subject\"] = \"US Exchange Rate\"\n",
    "\n",
    "    body = mes.to_html(index=False)\n",
    "    msg.attach(MIMEText(body, 'html'))\n",
    "\n",
    "    server = smtplib.SMTP(\"smtp.gmail.com\", 587)\n",
    "    server.starttls()\n",
    "\n",
    "    server.login(fromaddr, \"juuqmyvlylueykcu\")\n",
    "    text = msg.as_string()\n",
    "    server.sendmail(fromaddr, toaddr, text)\n",
    "    server.quit()"
   ]
  },
  {
   "cell_type": "code",
   "execution_count": 55,
   "metadata": {},
   "outputs": [
    {
     "ename": "KeyboardInterrupt",
     "evalue": "",
     "output_type": "error",
     "traceback": [
      "\u001b[0;31m---------------------------------------------------------------------------\u001b[0m",
      "\u001b[0;31mKeyboardInterrupt\u001b[0m                         Traceback (most recent call last)",
      "\u001b[0;32m<ipython-input-55-f28e9a3f01d9>\u001b[0m in \u001b[0;36m<module>\u001b[0;34m\u001b[0m\n\u001b[1;32m     26\u001b[0m         \u001b[0msend_email\u001b[0m\u001b[0;34m(\u001b[0m\u001b[0mcontent\u001b[0m\u001b[0;34m)\u001b[0m\u001b[0;34m\u001b[0m\u001b[0;34m\u001b[0m\u001b[0m\n\u001b[1;32m     27\u001b[0m \u001b[0;34m\u001b[0m\u001b[0m\n\u001b[0;32m---> 28\u001b[0;31m     \u001b[0msleep\u001b[0m\u001b[0;34m(\u001b[0m\u001b[0;36m10\u001b[0m\u001b[0;34m)\u001b[0m\u001b[0;34m\u001b[0m\u001b[0;34m\u001b[0m\u001b[0m\n\u001b[0m\u001b[1;32m     29\u001b[0m     \u001b[0mdriver\u001b[0m\u001b[0;34m.\u001b[0m\u001b[0mrefresh\u001b[0m\u001b[0;34m(\u001b[0m\u001b[0;34m)\u001b[0m\u001b[0;34m\u001b[0m\u001b[0;34m\u001b[0m\u001b[0m\n\u001b[1;32m     30\u001b[0m \u001b[0;34m\u001b[0m\u001b[0m\n",
      "\u001b[0;31mKeyboardInterrupt\u001b[0m: "
     ]
    }
   ],
   "source": [
    "driver = webdriver.Chrome()\n",
    "\n",
    "\n",
    "while True:\n",
    "    \n",
    "    info_data=[]\n",
    "    \n",
    "    driver.get(\"https://www.skbank.com.tw/skbank_web/data?action=rate&rateType=ExchangeRate&v=1621087553160\")\n",
    "    soup = BeautifulSoup(driver.page_source)\n",
    "    info = soup.select('pre')\n",
    "\n",
    "    for i in info:\n",
    "        data = json.loads(i.text)\n",
    "        USD_datas = data[\"tableJSON\"][\"table\"][\"row\"][\"data\"][0]\n",
    "    #     print(len(USD_datas))\n",
    "\n",
    "        for index in range(0,len(USD_datas)):\n",
    "    #         print(USD_datas[index][\"itemContent\"])\n",
    "            if index != 0 and index != 4 and index != 5:\n",
    "                info_data.append(USD_datas[index][\"itemContent\"].strip())\n",
    "\n",
    "    content= pd.DataFrame(np.array(info_data).reshape(1,4),columns=[\"幣別\", \"銀行收\", \"銀行賣\",\"時間\"])\n",
    "    \n",
    "    \n",
    "    if(float(content[\"銀行收\"])<28.5 or float(content[\"銀行賣\"])<27.9):\n",
    "        send_email(content)\n",
    "    \n",
    "    sleep(60)\n",
    "    driver.refresh()\n",
    "    \n",
    "driver.close()"
   ]
  },
  {
   "cell_type": "code",
   "execution_count": null,
   "metadata": {},
   "outputs": [],
   "source": []
  }
 ],
 "metadata": {
  "kernelspec": {
   "display_name": "Python 3",
   "language": "python",
   "name": "python3"
  },
  "language_info": {
   "codemirror_mode": {
    "name": "ipython",
    "version": 3
   },
   "file_extension": ".py",
   "mimetype": "text/x-python",
   "name": "python",
   "nbconvert_exporter": "python",
   "pygments_lexer": "ipython3",
   "version": "3.7.4"
  }
 },
 "nbformat": 4,
 "nbformat_minor": 4
}
